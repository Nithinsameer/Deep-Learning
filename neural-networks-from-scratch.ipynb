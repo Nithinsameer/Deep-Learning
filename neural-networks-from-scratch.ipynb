{
 "cells": [
  {
   "cell_type": "code",
   "execution_count": 1,
   "id": "07660b71",
   "metadata": {
    "_cell_guid": "b1076dfc-b9ad-4769-8c92-a6c4dae69d19",
    "_uuid": "8f2839f25d086af736a60e9eeb907d3b93b6e0e5",
    "execution": {
     "iopub.execute_input": "2024-10-14T19:11:33.741416Z",
     "iopub.status.busy": "2024-10-14T19:11:33.740952Z",
     "iopub.status.idle": "2024-10-14T19:11:34.545843Z",
     "shell.execute_reply": "2024-10-14T19:11:34.544837Z"
    },
    "papermill": {
     "duration": 0.8153,
     "end_time": "2024-10-14T19:11:34.548816",
     "exception": false,
     "start_time": "2024-10-14T19:11:33.733516",
     "status": "completed"
    },
    "tags": []
   },
   "outputs": [],
   "source": [
    "# This Python 3 environment comes with many helpful analytics libraries installed\n",
    "# It is defined by the kaggle/python Docker image: https://github.com/kaggle/docker-python\n",
    "# For example, here's several helpful packages to load\n",
    "\n",
    "import numpy as np # linear algebra\n",
    "import pandas as pd # data processing, CSV file I/O (e.g. pd.read_csv)\n",
    "\n",
    "# Input data files are available in the read-only \"../input/\" directory\n",
    "# For example, running this (by clicking run or pressing Shift+Enter) will list all files under the input directory\n",
    "\n",
    "import os\n",
    "for dirname, _, filenames in os.walk('/kaggle/input'):\n",
    "    for filename in filenames:\n",
    "        print(os.path.join(dirname, filename))\n",
    "\n",
    "# You can write up to 20GB to the current directory (/kaggle/working/) that gets preserved as output when you create a version using \"Save & Run All\" \n",
    "# You can also write temporary files to /kaggle/temp/, but they won't be saved outside of the current session"
   ]
  },
  {
   "cell_type": "markdown",
   "id": "fbbec1ad",
   "metadata": {
    "papermill": {
     "duration": 0.007543,
     "end_time": "2024-10-14T19:11:34.564313",
     "exception": false,
     "start_time": "2024-10-14T19:11:34.556770",
     "status": "completed"
    },
    "tags": []
   },
   "source": [
    "This is an implementation of Neural Networks from scratch. This is P1 Intro and Neuron Code"
   ]
  },
  {
   "cell_type": "markdown",
   "id": "92070494",
   "metadata": {
    "papermill": {
     "duration": 0.004752,
     "end_time": "2024-10-14T19:11:34.574994",
     "exception": false,
     "start_time": "2024-10-14T19:11:34.570242",
     "status": "completed"
    },
    "tags": []
   },
   "source": [
    "# P1 Basic Idea behind the inputs, weights and biases of a neural network"
   ]
  },
  {
   "cell_type": "code",
   "execution_count": 2,
   "id": "35ac7722",
   "metadata": {
    "execution": {
     "iopub.execute_input": "2024-10-14T19:11:34.587198Z",
     "iopub.status.busy": "2024-10-14T19:11:34.586066Z",
     "iopub.status.idle": "2024-10-14T19:11:34.592729Z",
     "shell.execute_reply": "2024-10-14T19:11:34.591419Z"
    },
    "papermill": {
     "duration": 0.015409,
     "end_time": "2024-10-14T19:11:34.595254",
     "exception": false,
     "start_time": "2024-10-14T19:11:34.579845",
     "status": "completed"
    },
    "tags": []
   },
   "outputs": [
    {
     "name": "stdout",
     "output_type": "stream",
     "text": [
      "45.86\n"
     ]
    }
   ],
   "source": [
    "inputs = [1.2, 3.4, 4.6]\n",
    "weights = [2.2, 4.5, 5.2]\n",
    "bias = 4\n",
    "\n",
    "output = inputs[0]*weights[0] + inputs[1]*weights[1] + inputs[2]*weights[2] + bias\n",
    "print(output)"
   ]
  },
  {
   "cell_type": "markdown",
   "id": "14bfeffb",
   "metadata": {
    "papermill": {
     "duration": 0.007339,
     "end_time": "2024-10-14T19:11:34.610423",
     "exception": false,
     "start_time": "2024-10-14T19:11:34.603084",
     "status": "completed"
    },
    "tags": []
   },
   "source": [
    "# P2 Coding a Layer"
   ]
  },
  {
   "cell_type": "code",
   "execution_count": 3,
   "id": "1780967e",
   "metadata": {
    "execution": {
     "iopub.execute_input": "2024-10-14T19:11:34.623636Z",
     "iopub.status.busy": "2024-10-14T19:11:34.623216Z",
     "iopub.status.idle": "2024-10-14T19:11:34.629098Z",
     "shell.execute_reply": "2024-10-14T19:11:34.628158Z"
    },
    "papermill": {
     "duration": 0.015826,
     "end_time": "2024-10-14T19:11:34.631894",
     "exception": false,
     "start_time": "2024-10-14T19:11:34.616068",
     "status": "completed"
    },
    "tags": []
   },
   "outputs": [
    {
     "name": "stdout",
     "output_type": "stream",
     "text": [
      "2.3\n"
     ]
    }
   ],
   "source": [
    "inputs = [1,2,3]\n",
    "weights = [0.2,0.8,-0.5]\n",
    "bias = 2\n",
    "\n",
    "output = inputs[0]*weights[0] + inputs[1]*weights[1] + inputs[2]*weights[2] + bias\n",
    "print(output)"
   ]
  },
  {
   "cell_type": "markdown",
   "id": "12f1f6bd",
   "metadata": {
    "papermill": {
     "duration": 0.006022,
     "end_time": "2024-10-14T19:11:34.645861",
     "exception": false,
     "start_time": "2024-10-14T19:11:34.639839",
     "status": "completed"
    },
    "tags": []
   },
   "source": [
    "Adding another input neuron and weights, we are trying to see the layer the leads to the value of an ouput neuron"
   ]
  },
  {
   "cell_type": "code",
   "execution_count": 4,
   "id": "3a919673",
   "metadata": {
    "execution": {
     "iopub.execute_input": "2024-10-14T19:11:34.657633Z",
     "iopub.status.busy": "2024-10-14T19:11:34.657215Z",
     "iopub.status.idle": "2024-10-14T19:11:34.663419Z",
     "shell.execute_reply": "2024-10-14T19:11:34.662469Z"
    },
    "papermill": {
     "duration": 0.015116,
     "end_time": "2024-10-14T19:11:34.666080",
     "exception": false,
     "start_time": "2024-10-14T19:11:34.650964",
     "status": "completed"
    },
    "tags": []
   },
   "outputs": [
    {
     "name": "stdout",
     "output_type": "stream",
     "text": [
      "4.8\n"
     ]
    }
   ],
   "source": [
    "inputs = [1,2,3,2.5]\n",
    "weights = [0.2,0.8,-0.5,1.0]\n",
    "bias = 2\n",
    "\n",
    "output = inputs[0]*weights[0] + inputs[1]*weights[1] + inputs[2]*weights[2] + inputs[3]*weights[3] + bias\n",
    "print(output)"
   ]
  },
  {
   "cell_type": "markdown",
   "id": "1164f52f",
   "metadata": {
    "papermill": {
     "duration": 0.006001,
     "end_time": "2024-10-14T19:11:34.680032",
     "exception": false,
     "start_time": "2024-10-14T19:11:34.674031",
     "status": "completed"
    },
    "tags": []
   },
   "source": [
    "Building a layer of 4 input and 3 output"
   ]
  },
  {
   "cell_type": "code",
   "execution_count": 5,
   "id": "0c12e058",
   "metadata": {
    "execution": {
     "iopub.execute_input": "2024-10-14T19:11:34.692297Z",
     "iopub.status.busy": "2024-10-14T19:11:34.691412Z",
     "iopub.status.idle": "2024-10-14T19:11:34.700727Z",
     "shell.execute_reply": "2024-10-14T19:11:34.699232Z"
    },
    "papermill": {
     "duration": 0.017669,
     "end_time": "2024-10-14T19:11:34.702874",
     "exception": false,
     "start_time": "2024-10-14T19:11:34.685205",
     "status": "completed"
    },
    "tags": []
   },
   "outputs": [
    {
     "name": "stdout",
     "output_type": "stream",
     "text": [
      "[4.8, 1.21, 2.385]\n"
     ]
    }
   ],
   "source": [
    "inputs = [1,2,3,2.5]\n",
    "\n",
    "weights1 = [0.2,0.8,-0.5,1.0]\n",
    "weights2 = [0.5,-0.91,0.26,-0.5]\n",
    "weights3 = [-0.26,-0.27,0.17,0.87]\n",
    "\n",
    "bias1 = 2\n",
    "bias2 = 3\n",
    "bias3 = 0.5\n",
    "\n",
    "output = [inputs[0]*weights1[0] + inputs[1]*weights1[1] + inputs[2]*weights1[2] + inputs[3]*weights1[3] + bias1,\n",
    "         inputs[0]*weights2[0] + inputs[1]*weights2[1] + inputs[2]*weights2[2] + inputs[3]*weights2[3] + bias2,\n",
    "          inputs[0]*weights3[0] + inputs[1]*weights3[1] + inputs[2]*weights3[2] + inputs[3]*weights3[3] + bias3]\n",
    "\n",
    "print(output)"
   ]
  },
  {
   "cell_type": "markdown",
   "id": "fdec9edf",
   "metadata": {
    "papermill": {
     "duration": 0.004901,
     "end_time": "2024-10-14T19:11:34.713123",
     "exception": false,
     "start_time": "2024-10-14T19:11:34.708222",
     "status": "completed"
    },
    "tags": []
   },
   "source": [
    "# P3 The Dot Product"
   ]
  },
  {
   "cell_type": "markdown",
   "id": "53b7b0f6",
   "metadata": {
    "papermill": {
     "duration": 0.00487,
     "end_time": "2024-10-14T19:11:34.723068",
     "exception": false,
     "start_time": "2024-10-14T19:11:34.718198",
     "status": "completed"
    },
    "tags": []
   },
   "source": [
    "simplified process of nerual nets calculation. Going from previously used hard math to following for loop. "
   ]
  },
  {
   "cell_type": "code",
   "execution_count": 6,
   "id": "ef6b7435",
   "metadata": {
    "execution": {
     "iopub.execute_input": "2024-10-14T19:11:34.735472Z",
     "iopub.status.busy": "2024-10-14T19:11:34.734533Z",
     "iopub.status.idle": "2024-10-14T19:11:34.741895Z",
     "shell.execute_reply": "2024-10-14T19:11:34.740791Z"
    },
    "papermill": {
     "duration": 0.01569,
     "end_time": "2024-10-14T19:11:34.743939",
     "exception": false,
     "start_time": "2024-10-14T19:11:34.728249",
     "status": "completed"
    },
    "tags": []
   },
   "outputs": [
    {
     "name": "stdout",
     "output_type": "stream",
     "text": [
      "[4.8, 1.21, 2.385]\n"
     ]
    }
   ],
   "source": [
    "inputs = [1,2,3,2.5]\n",
    "\n",
    "weights = [[0.2,0.8,-0.5,1.0],\n",
    "          [0.5,-0.91,0.26,-0.5],\n",
    "          [-0.26,-0.27,0.17,0.87]]\n",
    "\n",
    "biases = [2,3,0.5]\n",
    "\n",
    "layer_outputs = []\n",
    "for neuron_weights, neuron_biases in zip(weights,biases):\n",
    "    neuron_output = 0\n",
    "    for n_input, weights in zip(inputs,neuron_weights):\n",
    "        neuron_output += n_input*weights\n",
    "    neuron_output += neuron_biases\n",
    "    layer_outputs.append(neuron_output)\n",
    "    \n",
    "print(layer_outputs)"
   ]
  },
  {
   "cell_type": "markdown",
   "id": "b12fd7a6",
   "metadata": {
    "papermill": {
     "duration": 0.00496,
     "end_time": "2024-10-14T19:11:34.754193",
     "exception": false,
     "start_time": "2024-10-14T19:11:34.749233",
     "status": "completed"
    },
    "tags": []
   },
   "source": [
    "dot product"
   ]
  },
  {
   "cell_type": "code",
   "execution_count": 7,
   "id": "2d272ad3",
   "metadata": {
    "execution": {
     "iopub.execute_input": "2024-10-14T19:11:34.766259Z",
     "iopub.status.busy": "2024-10-14T19:11:34.765889Z",
     "iopub.status.idle": "2024-10-14T19:11:34.772011Z",
     "shell.execute_reply": "2024-10-14T19:11:34.770914Z"
    },
    "papermill": {
     "duration": 0.01472,
     "end_time": "2024-10-14T19:11:34.774068",
     "exception": false,
     "start_time": "2024-10-14T19:11:34.759348",
     "status": "completed"
    },
    "tags": []
   },
   "outputs": [
    {
     "name": "stdout",
     "output_type": "stream",
     "text": [
      "4.8\n"
     ]
    }
   ],
   "source": [
    "import numpy as np\n",
    "\n",
    "inputs = [1,2,3,2.5]\n",
    "weights = [0.2,0.8,-0.5,1.0]\n",
    "bias = 2\n",
    "\n",
    "output = np.dot(weights, inputs) + bias\n",
    "print(output)"
   ]
  },
  {
   "cell_type": "markdown",
   "id": "fe8638f9",
   "metadata": {
    "papermill": {
     "duration": 0.005024,
     "end_time": "2024-10-14T19:11:34.784416",
     "exception": false,
     "start_time": "2024-10-14T19:11:34.779392",
     "status": "completed"
    },
    "tags": []
   },
   "source": [
    "dot product of a layer of neuron"
   ]
  },
  {
   "cell_type": "code",
   "execution_count": 8,
   "id": "55572a89",
   "metadata": {
    "execution": {
     "iopub.execute_input": "2024-10-14T19:11:34.796400Z",
     "iopub.status.busy": "2024-10-14T19:11:34.796031Z",
     "iopub.status.idle": "2024-10-14T19:11:34.804149Z",
     "shell.execute_reply": "2024-10-14T19:11:34.803061Z"
    },
    "papermill": {
     "duration": 0.017241,
     "end_time": "2024-10-14T19:11:34.806766",
     "exception": false,
     "start_time": "2024-10-14T19:11:34.789525",
     "status": "completed"
    },
    "tags": []
   },
   "outputs": [
    {
     "name": "stdout",
     "output_type": "stream",
     "text": [
      "[4.8   1.21  2.385]\n"
     ]
    }
   ],
   "source": [
    "inputs = [1,2,3,2.5]\n",
    "\n",
    "weights = [[0.2,0.8,-0.5,1.0],\n",
    "          [0.5,-0.91,0.26,-0.5],\n",
    "          [-0.26,-0.27,0.17,0.87]]\n",
    "\n",
    "biases = [2,3,0.5]\n",
    "\n",
    "output = np.dot(weights,inputs) + biases\n",
    "print(output)"
   ]
  },
  {
   "cell_type": "markdown",
   "id": "1cb263ca",
   "metadata": {
    "papermill": {
     "duration": 0.007983,
     "end_time": "2024-10-14T19:11:34.823289",
     "exception": false,
     "start_time": "2024-10-14T19:11:34.815306",
     "status": "completed"
    },
    "tags": []
   },
   "source": [
    "# P4 Batches, Layers and Objects"
   ]
  },
  {
   "cell_type": "code",
   "execution_count": 9,
   "id": "5081818c",
   "metadata": {
    "execution": {
     "iopub.execute_input": "2024-10-14T19:11:34.837738Z",
     "iopub.status.busy": "2024-10-14T19:11:34.837323Z",
     "iopub.status.idle": "2024-10-14T19:11:34.847853Z",
     "shell.execute_reply": "2024-10-14T19:11:34.846584Z"
    },
    "papermill": {
     "duration": 0.019162,
     "end_time": "2024-10-14T19:11:34.849944",
     "exception": false,
     "start_time": "2024-10-14T19:11:34.830782",
     "status": "completed"
    },
    "tags": []
   },
   "outputs": [
    {
     "name": "stdout",
     "output_type": "stream",
     "text": [
      "[[ 4.8    1.21   2.385]\n",
      " [ 8.9   -1.81   0.2  ]\n",
      " [ 1.41   1.051  0.026]]\n"
     ]
    }
   ],
   "source": [
    " inputs = [[1,2,3,2.5],\n",
    "          [2.0,5.0,-1.0, 2.0],\n",
    "          [-1.5, 2.7, 3.3, -0.8]]\n",
    "\n",
    "weights = [[0.2,0.8,-0.5,1.0],\n",
    "          [0.5,-0.91,0.26,-0.5],\n",
    "          [-0.26,-0.27,0.17,0.87]]\n",
    "\n",
    "biases = [2,3,0.5]\n",
    "\n",
    "output = np.dot(inputs,np.array(weights).T) + biases\n",
    "print(output)"
   ]
  },
  {
   "cell_type": "markdown",
   "id": "ec3c95f9",
   "metadata": {
    "papermill": {
     "duration": 0.005414,
     "end_time": "2024-10-14T19:11:34.860862",
     "exception": false,
     "start_time": "2024-10-14T19:11:34.855448",
     "status": "completed"
    },
    "tags": []
   },
   "source": [
    "adding another layer"
   ]
  },
  {
   "cell_type": "code",
   "execution_count": 10,
   "id": "4550806e",
   "metadata": {
    "execution": {
     "iopub.execute_input": "2024-10-14T19:11:34.874192Z",
     "iopub.status.busy": "2024-10-14T19:11:34.873192Z",
     "iopub.status.idle": "2024-10-14T19:11:34.883950Z",
     "shell.execute_reply": "2024-10-14T19:11:34.882628Z"
    },
    "papermill": {
     "duration": 0.019722,
     "end_time": "2024-10-14T19:11:34.886078",
     "exception": false,
     "start_time": "2024-10-14T19:11:34.866356",
     "status": "completed"
    },
    "tags": []
   },
   "outputs": [
    {
     "name": "stdout",
     "output_type": "stream",
     "text": [
      "[[ 0.5031  -1.04185 -2.03875]\n",
      " [ 0.2434  -2.7332  -5.7633 ]\n",
      " [-0.99314  1.41254 -0.35655]]\n"
     ]
    }
   ],
   "source": [
    "inputs = [[1,2,3,2.5],\n",
    "          [2.0,5.0,-1.0, 2.0],\n",
    "          [-1.5, 2.7, 3.3, -0.8]]\n",
    "\n",
    "weights = [[0.2,0.8,-0.5,1.0],\n",
    "          [0.5,-0.91,0.26,-0.5],\n",
    "          [-0.26,-0.27,0.17,0.87]]\n",
    "\n",
    "biases = [2,3,0.5]\n",
    "\n",
    "weights2 = [[0.1,-0.14,0.5],\n",
    "          [-0.5,0.12,-0.33],\n",
    "          [-0.44,0.73,-0.13]]\n",
    "\n",
    "biases2 = [-1,2,-0.5]\n",
    "\n",
    "layer1_outputs = np.dot(inputs,np.array(weights).T) + biases\n",
    "\n",
    "layer2_outputs = np.dot(layer1_outputs,np.array(weights2).T) + biases2\n",
    "\n",
    "print(layer2_outputs)"
   ]
  },
  {
   "cell_type": "markdown",
   "id": "a8baa3ab",
   "metadata": {
    "papermill": {
     "duration": 0.006408,
     "end_time": "2024-10-14T19:11:34.898031",
     "exception": false,
     "start_time": "2024-10-14T19:11:34.891623",
     "status": "completed"
    },
    "tags": []
   },
   "source": [
    "Converting neural networks to object layers"
   ]
  },
  {
   "cell_type": "code",
   "execution_count": 11,
   "id": "4389f2f1",
   "metadata": {
    "execution": {
     "iopub.execute_input": "2024-10-14T19:11:34.911513Z",
     "iopub.status.busy": "2024-10-14T19:11:34.910527Z",
     "iopub.status.idle": "2024-10-14T19:11:34.921451Z",
     "shell.execute_reply": "2024-10-14T19:11:34.920203Z"
    },
    "papermill": {
     "duration": 0.019859,
     "end_time": "2024-10-14T19:11:34.923589",
     "exception": false,
     "start_time": "2024-10-14T19:11:34.903730",
     "status": "completed"
    },
    "tags": []
   },
   "outputs": [
    {
     "name": "stdout",
     "output_type": "stream",
     "text": [
      "[[ 0.148296   -0.08397602]\n",
      " [ 0.14100315 -0.01340469]\n",
      " [ 0.20124979 -0.07290616]]\n"
     ]
    }
   ],
   "source": [
    "import numpy as np\n",
    "\n",
    "np.random.seed(0)\n",
    "\n",
    "X = [[1,2,3,2.5],\n",
    "     [2.0,5.0,-1.0, 2.0],\n",
    "     [-1.5, 2.7, 3.3, -0.8]]\n",
    "\n",
    "class Layer_Dense:\n",
    "    def __init__(self, n_inputs, n_neurons):\n",
    "        self.weights = 0.10 * np.random.randn(n_inputs, n_neurons)\n",
    "        self.biases = np.zeros((1,n_neurons))\n",
    "    def forward(self, inputs):\n",
    "        self.output = np.dot(inputs , self.weights) + self.biases\n",
    "\n",
    "        \n",
    "layer1 = Layer_Dense(4,5)\n",
    "layer2 = Layer_Dense(5,2)\n",
    "\n",
    "layer1.forward(X)\n",
    "# print(layer1.output)\n",
    "layer2.forward(layer1.output)\n",
    "print(layer2.output)"
   ]
  },
  {
   "cell_type": "code",
   "execution_count": null,
   "id": "e61bcc7a",
   "metadata": {
    "papermill": {
     "duration": 0.005197,
     "end_time": "2024-10-14T19:11:34.934381",
     "exception": false,
     "start_time": "2024-10-14T19:11:34.929184",
     "status": "completed"
    },
    "tags": []
   },
   "outputs": [],
   "source": [
    " "
   ]
  }
 ],
 "metadata": {
  "kaggle": {
   "accelerator": "none",
   "dataSources": [],
   "dockerImageVersionId": 30786,
   "isGpuEnabled": false,
   "isInternetEnabled": true,
   "language": "python",
   "sourceType": "notebook"
  },
  "kernelspec": {
   "display_name": "Python 3",
   "language": "python",
   "name": "python3"
  },
  "language_info": {
   "codemirror_mode": {
    "name": "ipython",
    "version": 3
   },
   "file_extension": ".py",
   "mimetype": "text/x-python",
   "name": "python",
   "nbconvert_exporter": "python",
   "pygments_lexer": "ipython3",
   "version": "3.10.14"
  },
  "papermill": {
   "default_parameters": {},
   "duration": 4.236789,
   "end_time": "2024-10-14T19:11:35.359785",
   "environment_variables": {},
   "exception": null,
   "input_path": "__notebook__.ipynb",
   "output_path": "__notebook__.ipynb",
   "parameters": {},
   "start_time": "2024-10-14T19:11:31.122996",
   "version": "2.6.0"
  }
 },
 "nbformat": 4,
 "nbformat_minor": 5
}
